{
 "cells": [
  {
   "cell_type": "markdown",
   "metadata": {},
   "source": [
    "\n",
    "<div class=\"alert alert-block alert-warning\">\n",
    "    <b>Introduction to theory of probabilities course </b><br>\n",
    "    <p>&#9656;Project-2 / The DFA.</p>\n",
    "    <p>&#9656;2/3/2019 Sunday.</p>\n",
    "</div>\n"
   ]
  },
  {
   "cell_type": "markdown",
   "metadata": {},
   "source": [
    "<div class=\"alert alert-block alert-info\">\n",
    "    <b>Project Background:<br></b>\n",
    "    This program check if a text is accepted by a given dfa , \n",
    "    dfa is a way to represent the regular expression , in other words, we ckeck if\n",
    "    the text is accepted by the regular expression that the dfa represents it .\n",
    "\n",
    "    \n",
    "  <br><br>\n",
    " <b>Project Goals:</b><br>\n",
    "    <p>&#9726;Represent the dfa in the program.</p>\n",
    "    <p>&#9726;Define a method that takes the dfa and the text and check.</p>\n",
    "    <p>&#9726;Print the result.</p>\n",
    "    </div>\n",
    "    "
   ]
  },
  {
   "cell_type": "markdown",
   "metadata": {},
   "source": [
    "<div class=\"alert alert-block alert-success\">\n",
    "<b>Represent the dfa using dectionary.</b>\n",
    "</div>"
   ]
  },
  {
   "cell_type": "markdown",
   "metadata": {},
   "source": [
    "### This is a picture of the dfa that we work with :\n",
    "<img src=\"http://3.bp.blogspot.com/-GTkie-IbfTY/VWa9fGCTEFI/AAAAAAAAFi8/uPvIcaGNl8c/s1600/cl6.JPG\"/>"
   ]
  },
  {
   "cell_type": "code",
   "execution_count": 3,
   "metadata": {},
   "outputs": [],
   "source": [
    "''''Here is an example of a dfa we will work with it , \n",
    "the dfa accepts all strings that start with 01 .'''\n",
    "\n",
    "#The set of states.\n",
    "dfa={ 'a':{'0':'b','1':'d'}\n",
    "     ,'b':{'1':'c','0':'d'}\n",
    "     ,'c':{'0':'c','1':'c'}\n",
    "     ,'d':{'0':'d','1':'d'}}\n",
    "\n",
    "#The initial state.\n",
    "start_state='a'\n",
    "\n",
    "#The set of the final states.\n",
    "final_states=['c']\n",
    "\n"
   ]
  },
  {
   "cell_type": "markdown",
   "metadata": {},
   "source": [
    "<div class=\"alert alert-block alert-success\">\n",
    "<b>Define the method.</b>\n",
    "</div>"
   ]
  },
  {
   "cell_type": "code",
   "execution_count": 4,
   "metadata": {},
   "outputs": [],
   "source": [
    "# The method that will check the text.\n",
    "def accepted(dfa, start_state, final_states, text):\n",
    "    # The current state , it will be the start state.\n",
    "    current = start_state\n",
    "\n",
    "    # Loop on the text , the current state will depends on the taken character.\n",
    "    for i in text:\n",
    "        current = dfa[current][i]\n",
    "\n",
    "    # Return the result.\n",
    "    return current in final_states\n"
   ]
  },
  {
   "cell_type": "markdown",
   "metadata": {},
   "source": [
    "<div class=\"alert alert-block alert-success\">\n",
    "<b>Print the result.</b>\n",
    "</div>"
   ]
  },
  {
   "cell_type": "code",
   "execution_count": 10,
   "metadata": {},
   "outputs": [
    {
     "name": "stdout",
     "output_type": "stream",
     "text": [
      "True\n"
     ]
    }
   ],
   "source": [
    "#Print the result by calling the method that check the text.\n",
    "print(accepted(dfa,start_state,final_states,\"0111\"))"
   ]
  }
 ],
 "metadata": {
  "kernelspec": {
   "display_name": "Python 2",
   "language": "python",
   "name": "python2"
  },
  "language_info": {
   "codemirror_mode": {
    "name": "ipython",
    "version": 2
   },
   "file_extension": ".py",
   "mimetype": "text/x-python",
   "name": "python",
   "nbconvert_exporter": "python",
   "pygments_lexer": "ipython2",
   "version": "2.7.15"
  }
 },
 "nbformat": 4,
 "nbformat_minor": 2
}
