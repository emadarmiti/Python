{
 "cells": [
  {
   "cell_type": "markdown",
   "metadata": {},
   "source": [
    "\n",
    "<div class=\"alert alert-block alert-warning\">\n",
    "    <b>Introduction to theory of probabilities course </b><br>\n",
    "    <p>&#9656;Project-1 / The anagrams.</p>\n",
    "    <p>&#9656;2/3/2019 Sunday.</p>\n",
    "</div>\n"
   ]
  },
  {
   "cell_type": "markdown",
   "metadata": {},
   "source": [
    "<div class=\"alert alert-block alert-info\">\n",
    "    <b>Project Background:<br></b>\n",
    "     In this section, review Python lists, dicts, and comprehensions. We're now going to set them to work in a simple practical project. Finding anagrams in the dictionary of English words. As you know, two words are anagrams of each other when their letters can be rearranged to turn one word into the other. For instance, Elvis and lives are anagrams of each other. In this project, I will also introduce you to a few useful Python idioms. These are especially useful for expressive constructs that occur often in the real world and that will become a second nature to you as you get more experience with Python.<br><br>\n",
    " <b>Project Goals:<br></b>\n",
    "    <p>&#9726; Load a dictionary of English words into a Python list </p>\n",
    "    <p>&#9726; Create a Python dict of anagrams, indexed by anagrammed word </p>\n",
    "    <p>&#9726; Challenge: Group dictionary words by their length and then find the total number of anagrams in each group </p>\n",
    "    </div>\n",
    "    "
   ]
  },
  {
   "cell_type": "markdown",
   "metadata": {},
   "source": [
    "<div class=\"alert alert-block alert-success\">\n",
    "<b>Load the English words.</b>\n",
    "</div>"
   ]
  },
  {
   "cell_type": "code",
   "execution_count": 16,
   "metadata": {},
   "outputs": [],
   "source": [
    "#load the English words from a txt file from the desktop.\n",
    "with open('Desktop/words.txt') as f: \n",
    "    \n",
    "#Store the words in list.\n",
    "    all_words = f.read().splitlines()\n",
    "    "
   ]
  },
  {
   "cell_type": "markdown",
   "metadata": {},
   "source": [
    "<div class=\"alert alert-block alert-success\">\n",
    "<b>Store the anagrams in a dictionary.</b>\n",
    "</div>"
   ]
  },
  {
   "cell_type": "code",
   "execution_count": 4,
   "metadata": {},
   "outputs": [],
   "source": [
    "''''This is a dictionary that holds the anagrams , the keys are a sorted word from each anagram group \n",
    "and the values will be a list of all anagrams that share the same sorted word .'''\n",
    "result = {}\n",
    "\n",
    "#For loop in all words.\n",
    "for word in all_words:\n",
    "    \n",
    "    #Sort every word and change it into lower case.\n",
    "    word_key = ''.join(sorted(word)).lower()\n",
    "    \n",
    "    #If the sorted word exist in the keys we will append it to the values of that key.\n",
    "    if word_key in result:\n",
    "        result[word_key].append(word)\n",
    "        \n",
    "    #If not we will add a key of this sorted word , later we will add it's anagrams in it's values if they are exist.\n",
    "    else:\n",
    "        result[word_key] = [word]\n",
    "        \n",
    "        \n",
    "        "
   ]
  },
  {
   "cell_type": "markdown",
   "metadata": {},
   "source": [
    "<div class=\"alert alert-block alert-success\">\n",
    "<b>Filtering the data in the dictionary , delete the keys that do not have anagrams.</b></div>"
   ]
  },
  {
   "cell_type": "code",
   "execution_count": 5,
   "metadata": {},
   "outputs": [],
   "source": [
    "#The list that holds the group of the anagrams\n",
    "final_result = []\n",
    "\n",
    "#For loop in all key of the dictionary.\n",
    "for key in result:\n",
    "    \n",
    "    #if the length of the last of the kay is greater than one that means that there is anagrams .\n",
    "    if len(result[key]) > 1:\n",
    "        final_result.append(result[key])"
   ]
  },
  {
   "cell_type": "markdown",
   "metadata": {},
   "source": [
    "<div class=\"alert alert-block alert-success\">\n",
    "<b>Grouping the anagrams with their lengths.</b></div>"
   ]
  },
  {
   "cell_type": "code",
   "execution_count": 14,
   "metadata": {},
   "outputs": [],
   "source": [
    "#The final dictionary.\n",
    "listed={}\n",
    "\n",
    "#for loop on the filtered list.\n",
    "for list_anagrams in final_result:\n",
    "    \n",
    "    #If the length exist in the keys we will append the anagrams that in the same length to it's values.\n",
    "    if len(list_anagrams[0]) in listed:\n",
    "        listed[len(list_anagrams[0])].append(list_anagrams)\n",
    "    \n",
    "    #If not we will add a new key of that length , the value will be the anagrams of that length.\n",
    "    else:\n",
    "        listed[len(list_anagrams[0])]=[list_anagrams]"
   ]
  }
 ],
 "metadata": {
  "kernelspec": {
   "display_name": "Python 2",
   "language": "python",
   "name": "python2"
  },
  "language_info": {
   "codemirror_mode": {
    "name": "ipython",
    "version": 2
   },
   "file_extension": ".py",
   "mimetype": "text/x-python",
   "name": "python",
   "nbconvert_exporter": "python",
   "pygments_lexer": "ipython2",
   "version": "2.7.15"
  }
 },
 "nbformat": 4,
 "nbformat_minor": 2
}
