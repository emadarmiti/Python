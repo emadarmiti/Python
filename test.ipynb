{
 "cells": [
  {
   "cell_type": "markdown",
   "metadata": {},
   "source": [
    "***\n",
    "# **Introduction of theory of probabilities - python**\n",
    "## *Project-1 / The anagrams*\n",
    "## *2/3/2019*\n",
    "\n",
    "\n",
    "\n",
    "***"
   ]
  },
  {
   "cell_type": "markdown",
   "metadata": {},
   "source": [
    "<div class =\"alert alert-block alert-info\">\n",
    "    <b>Project Background:<br></b>\n",
    "     In this section, review Python lists, dicts, and comprehensions. We're now going to set them to work in a simple practical project. Finding anagrams in the dictionary of English words. As you know, two words are anagrams of each other when their letters can be rearranged to turn one word into the other. For instance, Elvis and lives are anagrams of each other. In this project, I will also introduce you to a few useful Python idioms. These are especially useful for expressive constructs that occur often in the real world and that will become a second nature to you as you get more experience with Python.<br><br>\n",
    " <b>Project Goals:<br></b>\n",
    "    <p>&#9726; Load a dictionary of English words into a Python list </p>\n",
    "    <p>&#9726; Create a Python dict of anagrams, indexed by anagrammed word </p>\n",
    "    <p>&#9726; Challenge: Group dictionary words by their length and then find the total number of anagrams in each group </p>\n",
    "    </div>\n",
    "    "
   ]
  },
  {
   "cell_type": "code",
   "execution_count": null,
   "metadata": {},
   "outputs": [],
   "source": []
  }
 ],
 "metadata": {
  "kernelspec": {
   "display_name": "Python 2",
   "language": "python",
   "name": "python2"
  },
  "language_info": {
   "codemirror_mode": {
    "name": "ipython",
    "version": 2
   },
   "file_extension": ".py",
   "mimetype": "text/x-python",
   "name": "python",
   "nbconvert_exporter": "python",
   "pygments_lexer": "ipython2",
   "version": "2.7.15"
  }
 },
 "nbformat": 4,
 "nbformat_minor": 2
}
