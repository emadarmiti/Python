{
 "cells": [
  {
   "cell_type": "markdown",
   "metadata": {},
   "source": [
    "<div class=\"alert alert-block alert-info\" style=\"background-color:#94bbe9; color:black\">\n",
    "    <h1 style=\"text-align: center;\">Introduction to statistical analysis</h1>\n",
    "    <h2 style=\"text-align: center;\">Election project</h2>\n",
    "    <h2 style=\"text-align: center;\">19.11.2019</h2>\n",
    "  \n",
    "  </div><br>\n",
    "   <div  style=\"text-align: justify; background-color:#94bbe9; color:black; padding:10px;\">\n",
    "    First of all, we have data about US presidential election county results from 2004 through 2012. The data is focused on Republican and Democratic parties. So our goal is to specify what counties in what state the Democratic party should focus on and invest in to win the next election.  The first stage will specify what state that it is pure Republican (won in the three years) with the smallest margin with Democratic. The second one is to determine what counties also have the smallest margin, take into consideration the total number of votes in that county.\n",
    "   \n",
    "\n",
    "</div>\n",
    " \n",
    "\n"
   ]
  },
  {
   "cell_type": "markdown",
   "metadata": {},
   "source": [
    "## Importing some libraries "
   ]
  },
  {
   "cell_type": "code",
   "execution_count": 12,
   "metadata": {},
   "outputs": [],
   "source": [
    "import pandas as pd\n",
    "import numpy as np\n",
    "import matplotlib.pyplot as plt\n",
    "from empiricaldist import Pmf\n",
    "import operator\n",
    "import matplotlib.pyplot as plt "
   ]
  },
  {
   "cell_type": "markdown",
   "metadata": {},
   "source": [
    "## Reading the data and looking at the big picture"
   ]
  },
  {
   "cell_type": "code",
   "execution_count": 13,
   "metadata": {},
   "outputs": [],
   "source": [
    "data=pd.read_csv('Desktop/us-presidential-election-county-results-2004-through-2012.csv')"
   ]
  },
  {
   "cell_type": "code",
   "execution_count": 14,
   "metadata": {},
   "outputs": [
    {
     "data": {
      "text/html": [
       "<div>\n",
       "<style scoped>\n",
       "    .dataframe tbody tr th:only-of-type {\n",
       "        vertical-align: middle;\n",
       "    }\n",
       "\n",
       "    .dataframe tbody tr th {\n",
       "        vertical-align: top;\n",
       "    }\n",
       "\n",
       "    .dataframe thead th {\n",
       "        text-align: right;\n",
       "    }\n",
       "</style>\n",
       "<table border=\"1\" class=\"dataframe\">\n",
       "  <thead>\n",
       "    <tr style=\"text-align: right;\">\n",
       "      <th></th>\n",
       "      <th>year</th>\n",
       "      <th>state</th>\n",
       "      <th>county</th>\n",
       "      <th>fips</th>\n",
       "      <th>vote_rep</th>\n",
       "      <th>vote_dem</th>\n",
       "      <th>vote_oth</th>\n",
       "      <th>vote_total</th>\n",
       "      <th>pct_rep</th>\n",
       "      <th>pct_dem</th>\n",
       "      <th>pct_oth</th>\n",
       "      <th>winner</th>\n",
       "      <th>runnerup</th>\n",
       "      <th>pct_winner</th>\n",
       "      <th>margin_winner_over_runnerup</th>\n",
       "    </tr>\n",
       "  </thead>\n",
       "  <tbody>\n",
       "    <tr>\n",
       "      <th>0</th>\n",
       "      <td>2004</td>\n",
       "      <td>AL</td>\n",
       "      <td>Autauga County</td>\n",
       "      <td>01001</td>\n",
       "      <td>15196</td>\n",
       "      <td>4758</td>\n",
       "      <td>127</td>\n",
       "      <td>20081</td>\n",
       "      <td>75.7</td>\n",
       "      <td>23.7</td>\n",
       "      <td>0.6</td>\n",
       "      <td>rep</td>\n",
       "      <td>dem</td>\n",
       "      <td>75.7</td>\n",
       "      <td>52.0</td>\n",
       "    </tr>\n",
       "    <tr>\n",
       "      <th>1</th>\n",
       "      <td>2004</td>\n",
       "      <td>AL</td>\n",
       "      <td>Baldwin County</td>\n",
       "      <td>01003</td>\n",
       "      <td>52971</td>\n",
       "      <td>15599</td>\n",
       "      <td>750</td>\n",
       "      <td>69320</td>\n",
       "      <td>76.4</td>\n",
       "      <td>22.5</td>\n",
       "      <td>1.1</td>\n",
       "      <td>rep</td>\n",
       "      <td>dem</td>\n",
       "      <td>76.4</td>\n",
       "      <td>53.9</td>\n",
       "    </tr>\n",
       "    <tr>\n",
       "      <th>2</th>\n",
       "      <td>2004</td>\n",
       "      <td>AL</td>\n",
       "      <td>Barbour County</td>\n",
       "      <td>01005</td>\n",
       "      <td>5899</td>\n",
       "      <td>4832</td>\n",
       "      <td>46</td>\n",
       "      <td>10777</td>\n",
       "      <td>54.7</td>\n",
       "      <td>44.8</td>\n",
       "      <td>0.4</td>\n",
       "      <td>rep</td>\n",
       "      <td>dem</td>\n",
       "      <td>54.7</td>\n",
       "      <td>9.9</td>\n",
       "    </tr>\n",
       "    <tr>\n",
       "      <th>3</th>\n",
       "      <td>2004</td>\n",
       "      <td>AL</td>\n",
       "      <td>Bibb County</td>\n",
       "      <td>01007</td>\n",
       "      <td>5472</td>\n",
       "      <td>2089</td>\n",
       "      <td>39</td>\n",
       "      <td>7600</td>\n",
       "      <td>72.0</td>\n",
       "      <td>27.5</td>\n",
       "      <td>0.5</td>\n",
       "      <td>rep</td>\n",
       "      <td>dem</td>\n",
       "      <td>72.0</td>\n",
       "      <td>44.5</td>\n",
       "    </tr>\n",
       "    <tr>\n",
       "      <th>4</th>\n",
       "      <td>2004</td>\n",
       "      <td>AL</td>\n",
       "      <td>Blount County</td>\n",
       "      <td>01009</td>\n",
       "      <td>17386</td>\n",
       "      <td>3938</td>\n",
       "      <td>180</td>\n",
       "      <td>21504</td>\n",
       "      <td>80.9</td>\n",
       "      <td>18.3</td>\n",
       "      <td>0.8</td>\n",
       "      <td>rep</td>\n",
       "      <td>dem</td>\n",
       "      <td>80.9</td>\n",
       "      <td>62.6</td>\n",
       "    </tr>\n",
       "  </tbody>\n",
       "</table>\n",
       "</div>"
      ],
      "text/plain": [
       "   year state          county   fips  vote_rep  vote_dem  vote_oth  \\\n",
       "0  2004    AL  Autauga County  01001     15196      4758       127   \n",
       "1  2004    AL  Baldwin County  01003     52971     15599       750   \n",
       "2  2004    AL  Barbour County  01005      5899      4832        46   \n",
       "3  2004    AL     Bibb County  01007      5472      2089        39   \n",
       "4  2004    AL   Blount County  01009     17386      3938       180   \n",
       "\n",
       "   vote_total  pct_rep  pct_dem  pct_oth winner runnerup  pct_winner  \\\n",
       "0       20081     75.7     23.7      0.6    rep      dem        75.7   \n",
       "1       69320     76.4     22.5      1.1    rep      dem        76.4   \n",
       "2       10777     54.7     44.8      0.4    rep      dem        54.7   \n",
       "3        7600     72.0     27.5      0.5    rep      dem        72.0   \n",
       "4       21504     80.9     18.3      0.8    rep      dem        80.9   \n",
       "\n",
       "   margin_winner_over_runnerup  \n",
       "0                         52.0  \n",
       "1                         53.9  \n",
       "2                          9.9  \n",
       "3                         44.5  \n",
       "4                         62.6  "
      ]
     },
     "execution_count": 14,
     "metadata": {},
     "output_type": "execute_result"
    }
   ],
   "source": [
    "data.head()"
   ]
  },
  {
   "cell_type": "code",
   "execution_count": 15,
   "metadata": {},
   "outputs": [
    {
     "data": {
      "text/plain": [
       "(9461, 15)"
      ]
     },
     "execution_count": 15,
     "metadata": {},
     "output_type": "execute_result"
    }
   ],
   "source": [
    "data.shape"
   ]
  },
  {
   "cell_type": "code",
   "execution_count": 16,
   "metadata": {},
   "outputs": [
    {
     "name": "stdout",
     "output_type": "stream",
     "text": [
      "<class 'pandas.core.frame.DataFrame'>\n",
      "RangeIndex: 9461 entries, 0 to 9460\n",
      "Data columns (total 15 columns):\n",
      "year                           9461 non-null int64\n",
      "state                          9461 non-null object\n",
      "county                         9461 non-null object\n",
      "fips                           9461 non-null object\n",
      "vote_rep                       9461 non-null int64\n",
      "vote_dem                       9461 non-null int64\n",
      "vote_oth                       9461 non-null int64\n",
      "vote_total                     9461 non-null int64\n",
      "pct_rep                        9461 non-null float64\n",
      "pct_dem                        9461 non-null float64\n",
      "pct_oth                        9461 non-null float64\n",
      "winner                         9461 non-null object\n",
      "runnerup                       9461 non-null object\n",
      "pct_winner                     9461 non-null float64\n",
      "margin_winner_over_runnerup    9461 non-null float64\n",
      "dtypes: float64(5), int64(5), object(5)\n",
      "memory usage: 1.1+ MB\n"
     ]
    }
   ],
   "source": [
    "data.info()"
   ]
  },
  {
   "cell_type": "markdown",
   "metadata": {},
   "source": [
    "## Cleaning the data"
   ]
  },
  {
   "cell_type": "code",
   "execution_count": 17,
   "metadata": {},
   "outputs": [
    {
     "data": {
      "text/plain": [
       "year                           0\n",
       "state                          0\n",
       "county                         0\n",
       "fips                           0\n",
       "vote_rep                       0\n",
       "vote_dem                       0\n",
       "vote_oth                       0\n",
       "vote_total                     0\n",
       "pct_rep                        0\n",
       "pct_dem                        0\n",
       "pct_oth                        0\n",
       "winner                         0\n",
       "runnerup                       0\n",
       "pct_winner                     0\n",
       "margin_winner_over_runnerup    0\n",
       "dtype: int64"
      ]
     },
     "execution_count": 17,
     "metadata": {},
     "output_type": "execute_result"
    }
   ],
   "source": [
    "data.isnull().sum(axis=0)"
   ]
  },
  {
   "cell_type": "markdown",
   "metadata": {},
   "source": [
    "<div class=\"alert alert-block alert-info\">\n",
    "There are no null values\n",
    "</div>"
   ]
  },
  {
   "cell_type": "code",
   "execution_count": 18,
   "metadata": {},
   "outputs": [
    {
     "data": {
      "text/html": [
       "<div>\n",
       "<style scoped>\n",
       "    .dataframe tbody tr th:only-of-type {\n",
       "        vertical-align: middle;\n",
       "    }\n",
       "\n",
       "    .dataframe tbody tr th {\n",
       "        vertical-align: top;\n",
       "    }\n",
       "\n",
       "    .dataframe thead th {\n",
       "        text-align: right;\n",
       "    }\n",
       "</style>\n",
       "<table border=\"1\" class=\"dataframe\">\n",
       "  <thead>\n",
       "    <tr style=\"text-align: right;\">\n",
       "      <th></th>\n",
       "      <th>year</th>\n",
       "      <th>vote_rep</th>\n",
       "      <th>vote_dem</th>\n",
       "      <th>vote_oth</th>\n",
       "      <th>vote_total</th>\n",
       "      <th>pct_rep</th>\n",
       "      <th>pct_dem</th>\n",
       "      <th>pct_oth</th>\n",
       "      <th>pct_winner</th>\n",
       "      <th>margin_winner_over_runnerup</th>\n",
       "    </tr>\n",
       "  </thead>\n",
       "  <tbody>\n",
       "    <tr>\n",
       "      <th>count</th>\n",
       "      <td>9461.000000</td>\n",
       "      <td>9.461000e+03</td>\n",
       "      <td>9.461000e+03</td>\n",
       "      <td>9461.000000</td>\n",
       "      <td>9.461000e+03</td>\n",
       "      <td>9461.000000</td>\n",
       "      <td>9461.000000</td>\n",
       "      <td>9461.000000</td>\n",
       "      <td>9461.000000</td>\n",
       "      <td>9461.000000</td>\n",
       "    </tr>\n",
       "    <tr>\n",
       "      <th>mean</th>\n",
       "      <td>2007.999577</td>\n",
       "      <td>1.934384e+04</td>\n",
       "      <td>2.056118e+04</td>\n",
       "      <td>549.253356</td>\n",
       "      <td>4.047413e+04</td>\n",
       "      <td>56.767459</td>\n",
       "      <td>37.481014</td>\n",
       "      <td>-0.609479</td>\n",
       "      <td>61.065685</td>\n",
       "      <td>27.881161</td>\n",
       "    </tr>\n",
       "    <tr>\n",
       "      <th>std</th>\n",
       "      <td>3.266073</td>\n",
       "      <td>4.547357e+04</td>\n",
       "      <td>7.204556e+04</td>\n",
       "      <td>1834.700359</td>\n",
       "      <td>1.153066e+05</td>\n",
       "      <td>146.879361</td>\n",
       "      <td>146.599026</td>\n",
       "      <td>145.396975</td>\n",
       "      <td>146.597607</td>\n",
       "      <td>18.883382</td>\n",
       "    </tr>\n",
       "    <tr>\n",
       "      <th>min</th>\n",
       "      <td>2004.000000</td>\n",
       "      <td>-9.999000e+03</td>\n",
       "      <td>-9.999000e+03</td>\n",
       "      <td>-9999.000000</td>\n",
       "      <td>-9.999000e+03</td>\n",
       "      <td>-9999.000000</td>\n",
       "      <td>-9999.000000</td>\n",
       "      <td>-9999.000000</td>\n",
       "      <td>-9999.000000</td>\n",
       "      <td>0.000000</td>\n",
       "    </tr>\n",
       "    <tr>\n",
       "      <th>25%</th>\n",
       "      <td>2004.000000</td>\n",
       "      <td>2.928000e+03</td>\n",
       "      <td>1.730000e+03</td>\n",
       "      <td>55.000000</td>\n",
       "      <td>4.955000e+03</td>\n",
       "      <td>50.150000</td>\n",
       "      <td>29.730000</td>\n",
       "      <td>0.800000</td>\n",
       "      <td>55.310000</td>\n",
       "      <td>12.200000</td>\n",
       "    </tr>\n",
       "    <tr>\n",
       "      <th>50%</th>\n",
       "      <td>2008.000000</td>\n",
       "      <td>6.333000e+03</td>\n",
       "      <td>4.165000e+03</td>\n",
       "      <td>143.000000</td>\n",
       "      <td>1.073800e+04</td>\n",
       "      <td>59.660000</td>\n",
       "      <td>38.800000</td>\n",
       "      <td>1.390000</td>\n",
       "      <td>61.800000</td>\n",
       "      <td>25.160000</td>\n",
       "    </tr>\n",
       "    <tr>\n",
       "      <th>75%</th>\n",
       "      <td>2012.000000</td>\n",
       "      <td>1.593700e+04</td>\n",
       "      <td>1.131200e+04</td>\n",
       "      <td>401.000000</td>\n",
       "      <td>2.779800e+04</td>\n",
       "      <td>68.710000</td>\n",
       "      <td>48.300000</td>\n",
       "      <td>2.000000</td>\n",
       "      <td>69.780000</td>\n",
       "      <td>41.000000</td>\n",
       "    </tr>\n",
       "    <tr>\n",
       "      <th>max</th>\n",
       "      <td>2012.000000</td>\n",
       "      <td>1.076225e+06</td>\n",
       "      <td>2.295853e+06</td>\n",
       "      <td>78831.000000</td>\n",
       "      <td>3.318248e+06</td>\n",
       "      <td>96.150000</td>\n",
       "      <td>93.390000</td>\n",
       "      <td>34.760000</td>\n",
       "      <td>96.150000</td>\n",
       "      <td>92.850000</td>\n",
       "    </tr>\n",
       "  </tbody>\n",
       "</table>\n",
       "</div>"
      ],
      "text/plain": [
       "              year      vote_rep      vote_dem      vote_oth    vote_total  \\\n",
       "count  9461.000000  9.461000e+03  9.461000e+03   9461.000000  9.461000e+03   \n",
       "mean   2007.999577  1.934384e+04  2.056118e+04    549.253356  4.047413e+04   \n",
       "std       3.266073  4.547357e+04  7.204556e+04   1834.700359  1.153066e+05   \n",
       "min    2004.000000 -9.999000e+03 -9.999000e+03  -9999.000000 -9.999000e+03   \n",
       "25%    2004.000000  2.928000e+03  1.730000e+03     55.000000  4.955000e+03   \n",
       "50%    2008.000000  6.333000e+03  4.165000e+03    143.000000  1.073800e+04   \n",
       "75%    2012.000000  1.593700e+04  1.131200e+04    401.000000  2.779800e+04   \n",
       "max    2012.000000  1.076225e+06  2.295853e+06  78831.000000  3.318248e+06   \n",
       "\n",
       "           pct_rep      pct_dem      pct_oth   pct_winner  \\\n",
       "count  9461.000000  9461.000000  9461.000000  9461.000000   \n",
       "mean     56.767459    37.481014    -0.609479    61.065685   \n",
       "std     146.879361   146.599026   145.396975   146.597607   \n",
       "min   -9999.000000 -9999.000000 -9999.000000 -9999.000000   \n",
       "25%      50.150000    29.730000     0.800000    55.310000   \n",
       "50%      59.660000    38.800000     1.390000    61.800000   \n",
       "75%      68.710000    48.300000     2.000000    69.780000   \n",
       "max      96.150000    93.390000    34.760000    96.150000   \n",
       "\n",
       "       margin_winner_over_runnerup  \n",
       "count                  9461.000000  \n",
       "mean                     27.881161  \n",
       "std                      18.883382  \n",
       "min                       0.000000  \n",
       "25%                      12.200000  \n",
       "50%                      25.160000  \n",
       "75%                      41.000000  \n",
       "max                      92.850000  "
      ]
     },
     "execution_count": 18,
     "metadata": {},
     "output_type": "execute_result"
    }
   ],
   "source": [
    "data.describe()"
   ]
  },
  {
   "cell_type": "markdown",
   "metadata": {},
   "source": [
    "<div class=\"alert alert-block alert-info\">\n",
    "We have some dommy values\n",
    "</div>"
   ]
  },
  {
   "cell_type": "code",
   "execution_count": 19,
   "metadata": {},
   "outputs": [],
   "source": [
    "data=data.drop(data.index[3673])\n",
    "data=data.drop(data.index[519])"
   ]
  },
  {
   "cell_type": "code",
   "execution_count": 20,
   "metadata": {},
   "outputs": [
    {
     "data": {
      "text/html": [
       "<div>\n",
       "<style scoped>\n",
       "    .dataframe tbody tr th:only-of-type {\n",
       "        vertical-align: middle;\n",
       "    }\n",
       "\n",
       "    .dataframe tbody tr th {\n",
       "        vertical-align: top;\n",
       "    }\n",
       "\n",
       "    .dataframe thead th {\n",
       "        text-align: right;\n",
       "    }\n",
       "</style>\n",
       "<table border=\"1\" class=\"dataframe\">\n",
       "  <thead>\n",
       "    <tr style=\"text-align: right;\">\n",
       "      <th></th>\n",
       "      <th>year</th>\n",
       "      <th>vote_rep</th>\n",
       "      <th>vote_dem</th>\n",
       "      <th>vote_oth</th>\n",
       "      <th>vote_total</th>\n",
       "      <th>pct_rep</th>\n",
       "      <th>pct_dem</th>\n",
       "      <th>pct_oth</th>\n",
       "      <th>pct_winner</th>\n",
       "      <th>margin_winner_over_runnerup</th>\n",
       "    </tr>\n",
       "  </thead>\n",
       "  <tbody>\n",
       "    <tr>\n",
       "      <th>count</th>\n",
       "      <td>9459.000000</td>\n",
       "      <td>9.459000e+03</td>\n",
       "      <td>9.459000e+03</td>\n",
       "      <td>9459.000000</td>\n",
       "      <td>9.459000e+03</td>\n",
       "      <td>9459.000000</td>\n",
       "      <td>9459.000000</td>\n",
       "      <td>9459.000000</td>\n",
       "      <td>9459.000000</td>\n",
       "      <td>9459.000000</td>\n",
       "    </tr>\n",
       "    <tr>\n",
       "      <th>mean</th>\n",
       "      <td>2008.000000</td>\n",
       "      <td>1.935004e+04</td>\n",
       "      <td>2.056764e+04</td>\n",
       "      <td>551.483666</td>\n",
       "      <td>4.048481e+04</td>\n",
       "      <td>58.893639</td>\n",
       "      <td>39.603116</td>\n",
       "      <td>1.504569</td>\n",
       "      <td>63.192774</td>\n",
       "      <td>27.887056</td>\n",
       "    </tr>\n",
       "    <tr>\n",
       "      <th>std</th>\n",
       "      <td>3.266159</td>\n",
       "      <td>4.547637e+04</td>\n",
       "      <td>7.205181e+04</td>\n",
       "      <td>1828.470363</td>\n",
       "      <td>1.153165e+05</td>\n",
       "      <td>13.818724</td>\n",
       "      <td>13.806798</td>\n",
       "      <td>0.983639</td>\n",
       "      <td>9.484931</td>\n",
       "      <td>18.881025</td>\n",
       "    </tr>\n",
       "    <tr>\n",
       "      <th>min</th>\n",
       "      <td>2004.000000</td>\n",
       "      <td>5.400000e+01</td>\n",
       "      <td>5.000000e+00</td>\n",
       "      <td>0.000000</td>\n",
       "      <td>6.400000e+01</td>\n",
       "      <td>5.980000</td>\n",
       "      <td>0.550000</td>\n",
       "      <td>0.000000</td>\n",
       "      <td>44.170000</td>\n",
       "      <td>0.000000</td>\n",
       "    </tr>\n",
       "    <tr>\n",
       "      <th>25%</th>\n",
       "      <td>2004.000000</td>\n",
       "      <td>2.929500e+03</td>\n",
       "      <td>1.731000e+03</td>\n",
       "      <td>55.000000</td>\n",
       "      <td>4.958000e+03</td>\n",
       "      <td>50.165000</td>\n",
       "      <td>29.735000</td>\n",
       "      <td>0.800000</td>\n",
       "      <td>55.315000</td>\n",
       "      <td>12.200000</td>\n",
       "    </tr>\n",
       "    <tr>\n",
       "      <th>50%</th>\n",
       "      <td>2008.000000</td>\n",
       "      <td>6.333000e+03</td>\n",
       "      <td>4.170000e+03</td>\n",
       "      <td>143.000000</td>\n",
       "      <td>1.074100e+04</td>\n",
       "      <td>59.670000</td>\n",
       "      <td>38.800000</td>\n",
       "      <td>1.390000</td>\n",
       "      <td>61.800000</td>\n",
       "      <td>25.170000</td>\n",
       "    </tr>\n",
       "    <tr>\n",
       "      <th>75%</th>\n",
       "      <td>2012.000000</td>\n",
       "      <td>1.593900e+04</td>\n",
       "      <td>1.131350e+04</td>\n",
       "      <td>401.500000</td>\n",
       "      <td>2.783250e+04</td>\n",
       "      <td>68.715000</td>\n",
       "      <td>48.300000</td>\n",
       "      <td>2.000000</td>\n",
       "      <td>69.780000</td>\n",
       "      <td>41.010000</td>\n",
       "    </tr>\n",
       "    <tr>\n",
       "      <th>max</th>\n",
       "      <td>2012.000000</td>\n",
       "      <td>1.076225e+06</td>\n",
       "      <td>2.295853e+06</td>\n",
       "      <td>78831.000000</td>\n",
       "      <td>3.318248e+06</td>\n",
       "      <td>96.150000</td>\n",
       "      <td>93.390000</td>\n",
       "      <td>34.760000</td>\n",
       "      <td>96.150000</td>\n",
       "      <td>92.850000</td>\n",
       "    </tr>\n",
       "  </tbody>\n",
       "</table>\n",
       "</div>"
      ],
      "text/plain": [
       "              year      vote_rep      vote_dem      vote_oth    vote_total  \\\n",
       "count  9459.000000  9.459000e+03  9.459000e+03   9459.000000  9.459000e+03   \n",
       "mean   2008.000000  1.935004e+04  2.056764e+04    551.483666  4.048481e+04   \n",
       "std       3.266159  4.547637e+04  7.205181e+04   1828.470363  1.153165e+05   \n",
       "min    2004.000000  5.400000e+01  5.000000e+00      0.000000  6.400000e+01   \n",
       "25%    2004.000000  2.929500e+03  1.731000e+03     55.000000  4.958000e+03   \n",
       "50%    2008.000000  6.333000e+03  4.170000e+03    143.000000  1.074100e+04   \n",
       "75%    2012.000000  1.593900e+04  1.131350e+04    401.500000  2.783250e+04   \n",
       "max    2012.000000  1.076225e+06  2.295853e+06  78831.000000  3.318248e+06   \n",
       "\n",
       "           pct_rep      pct_dem      pct_oth   pct_winner  \\\n",
       "count  9459.000000  9459.000000  9459.000000  9459.000000   \n",
       "mean     58.893639    39.603116     1.504569    63.192774   \n",
       "std      13.818724    13.806798     0.983639     9.484931   \n",
       "min       5.980000     0.550000     0.000000    44.170000   \n",
       "25%      50.165000    29.735000     0.800000    55.315000   \n",
       "50%      59.670000    38.800000     1.390000    61.800000   \n",
       "75%      68.715000    48.300000     2.000000    69.780000   \n",
       "max      96.150000    93.390000    34.760000    96.150000   \n",
       "\n",
       "       margin_winner_over_runnerup  \n",
       "count                  9459.000000  \n",
       "mean                     27.887056  \n",
       "std                      18.881025  \n",
       "min                       0.000000  \n",
       "25%                      12.200000  \n",
       "50%                      25.170000  \n",
       "75%                      41.010000  \n",
       "max                      92.850000  "
      ]
     },
     "execution_count": 20,
     "metadata": {},
     "output_type": "execute_result"
    }
   ],
   "source": [
    "data.describe()"
   ]
  },
  {
   "cell_type": "markdown",
   "metadata": {},
   "source": [
    "<div class=\"alert alert-block alert-info\">\n",
    "We dropped the rows that have dommy values\n",
    "</div>"
   ]
  },
  {
   "cell_type": "code",
   "execution_count": 21,
   "metadata": {},
   "outputs": [
    {
     "data": {
      "text/plain": [
       "2012    3153\n",
       "2004    3153\n",
       "2008    3153\n",
       "Name: year, dtype: int64"
      ]
     },
     "execution_count": 21,
     "metadata": {},
     "output_type": "execute_result"
    }
   ],
   "source": [
    "data['year'].value_counts()"
   ]
  },
  {
   "cell_type": "markdown",
   "metadata": {},
   "source": [
    "<div class=\"alert alert-block alert-info\">\n",
    " We have three years to work with\n",
    "</div>"
   ]
  },
  {
   "cell_type": "markdown",
   "metadata": {},
   "source": [
    "## Specify the swing states "
   ]
  },
  {
   "cell_type": "markdown",
   "metadata": {},
   "source": [
    "#### Slicing the data depending on years"
   ]
  },
  {
   "cell_type": "code",
   "execution_count": 22,
   "metadata": {},
   "outputs": [],
   "source": [
    "data_2004=data[data.year==2004]\n",
    "data_2008=data[data.year==2008]\n",
    "data_2012=data[data.year==2012]"
   ]
  },
  {
   "cell_type": "markdown",
   "metadata": {},
   "source": [
    "#### Store the state and its count for each year"
   ]
  },
  {
   "cell_type": "code",
   "execution_count": 24,
   "metadata": {},
   "outputs": [],
   "source": [
    "count_2004=data_2004['state'].value_counts()\n",
    "count_2008=data_2008['state'].value_counts()\n",
    "count_2012=data_2012['state'].value_counts()"
   ]
  },
  {
   "cell_type": "code",
   "execution_count": 25,
   "metadata": {},
   "outputs": [
    {
     "data": {
      "text/plain": [
       "51"
      ]
     },
     "execution_count": 25,
     "metadata": {},
     "output_type": "execute_result"
    }
   ],
   "source": [
    "len(count_2012)"
   ]
  },
  {
   "cell_type": "code",
   "execution_count": 26,
   "metadata": {},
   "outputs": [
    {
     "data": {
      "text/plain": [
       "51"
      ]
     },
     "execution_count": 26,
     "metadata": {},
     "output_type": "execute_result"
    }
   ],
   "source": [
    "len(count_2004)"
   ]
  },
  {
   "cell_type": "code",
   "execution_count": 27,
   "metadata": {},
   "outputs": [
    {
     "data": {
      "text/plain": [
       "51"
      ]
     },
     "execution_count": 27,
     "metadata": {},
     "output_type": "execute_result"
    }
   ],
   "source": [
    "len(count_2008)"
   ]
  },
  {
   "cell_type": "markdown",
   "metadata": {},
   "source": [
    "<div class=\"alert alert-block alert-info\">\n",
    "For the three years we have the complete number of states (51)\n",
    "</div>"
   ]
  },
  {
   "cell_type": "markdown",
   "metadata": {},
   "source": [
    "#### For each state in the three years specify how many county win for the rep and the dem"
   ]
  },
  {
   "cell_type": "code",
   "execution_count": 139,
   "metadata": {},
   "outputs": [],
   "source": [
    "states_2004_dem={}\n",
    "states_2004_rep={}\n",
    "states_2008_dem={}\n",
    "states_2008_rep={}\n",
    "states_2012_dem={}\n",
    "states_2012_rep={}\n",
    "for i in data_2004.iterrows():\n",
    "    if i[1][11]=='dem':\n",
    "        if i[1][1] in states_2004_dem:\n",
    "\n",
    "            states_2004_dem[i[1][1]]+=1\n",
    "            \n",
    "       \n",
    "        else:\n",
    "\n",
    "            states_2004_dem[i[1][1]]=1\n",
    "    else :\n",
    "        if i[1][1] in states_2004_rep:\n",
    "\n",
    "            states_2004_rep[i[1][1]]+=1\n",
    "            \n",
    "       \n",
    "        else:\n",
    "\n",
    "            states_2004_rep[i[1][1]]=1\n",
    "            \n",
    "#######################################\n",
    "for i in data_2008.iterrows():\n",
    "    if i[1][11]=='dem':\n",
    "        if i[1][1] in states_2008_dem:\n",
    "\n",
    "            states_2008_dem[i[1][1]]+=1\n",
    "            \n",
    "       \n",
    "        else:\n",
    "\n",
    "            states_2008_dem[i[1][1]]=1\n",
    "    else :\n",
    "        if i[1][1] in states_2008_rep:\n",
    "\n",
    "            states_2008_rep[i[1][1]]+=1\n",
    "            \n",
    "       \n",
    "        else:\n",
    "\n",
    "            states_2008_rep[i[1][1]]=1\n",
    "            \n",
    "#####################################\n",
    "\n",
    "for i in data_2012.iterrows():\n",
    "    if i[1][11]=='dem':\n",
    "        if i[1][1] in states_2012_dem:\n",
    "\n",
    "            states_2012_dem[i[1][1]]+=1\n",
    "            \n",
    "       \n",
    "        else:\n",
    "\n",
    "            states_2012_dem[i[1][1]]=1\n",
    "    else :\n",
    "        if i[1][1] in states_2012_rep:\n",
    "\n",
    "            states_2012_rep[i[1][1]]+=1\n",
    "            \n",
    "       \n",
    "        else:\n",
    "\n",
    "            states_2012_rep[i[1][1]]=1\n",
    "\n"
   ]
  },
  {
   "cell_type": "code",
   "execution_count": 140,
   "metadata": {},
   "outputs": [
    {
     "data": {
      "text/plain": [
       "11"
      ]
     },
     "execution_count": 140,
     "metadata": {},
     "output_type": "execute_result"
    }
   ],
   "source": [
    "states_2004_dem['AL']"
   ]
  },
  {
   "cell_type": "code",
   "execution_count": 141,
   "metadata": {},
   "outputs": [
    {
     "data": {
      "text/plain": [
       "56"
      ]
     },
     "execution_count": 141,
     "metadata": {},
     "output_type": "execute_result"
    }
   ],
   "source": [
    "states_2004_rep['AL']"
   ]
  },
  {
   "cell_type": "markdown",
   "metadata": {},
   "source": [
    "<div class=\"alert alert-block alert-info\">\n",
    "For example in the state AL, there are 11 counties the dem win on them and 56 counties the rep win on them. So we can say this state in the 2004 is a rep state\n",
    "</div>"
   ]
  },
  {
   "cell_type": "markdown",
   "metadata": {},
   "source": [
    "#### Slicing the names of the states "
   ]
  },
  {
   "cell_type": "code",
   "execution_count": 155,
   "metadata": {},
   "outputs": [],
   "source": [
    "names_2004_dem=[i for i in states_2004_dem]\n",
    "names_2004_rep=[i for i in states_2004_rep]\n",
    "names_2008_dem=[i for i in states_2008_dem]\n",
    "names_2008_rep=[i for i in states_2008_rep]\n",
    "names_2012_dem=[i for i in states_2012_dem]\n",
    "names_2012_rep=[i for i in states_2012_rep]"
   ]
  },
  {
   "cell_type": "code",
   "execution_count": 156,
   "metadata": {},
   "outputs": [
    {
     "data": {
      "text/plain": [
       "['AL', 'AZ', 'AR', 'CA']"
      ]
     },
     "execution_count": 156,
     "metadata": {},
     "output_type": "execute_result"
    }
   ],
   "source": [
    "names_2004_dem[:4]"
   ]
  },
  {
   "cell_type": "markdown",
   "metadata": {},
   "source": [
    "#### Specify what states did not have any county that wins for dem or rep, so if a state in 2004 all counties on it win for rep so it is a rep state"
   ]
  },
  {
   "cell_type": "code",
   "execution_count": 157,
   "metadata": {},
   "outputs": [],
   "source": [
    "rep_win_states_2004=[]\n",
    "for i in names_2004_rep:\n",
    "    if i not in names_2004_dem:\n",
    "       \n",
    "        rep_win_states_2004.append(i)\n",
    "        \n",
    "        \n",
    "rep_win_states_2008=[]\n",
    "for i in names_2008_rep:\n",
    "    if i not in names_2008_dem:\n",
    "       \n",
    "        rep_win_states_2008.append(i)\n",
    "        \n",
    "rep_win_states_2012=[]\n",
    "for i in names_2012_rep:\n",
    "    if i not in names_2012_dem:\n",
    "       \n",
    "        rep_win_states_2012.append(i)"
   ]
  },
  {
   "cell_type": "code",
   "execution_count": 158,
   "metadata": {},
   "outputs": [],
   "source": [
    "dem_win_states_2004=[]\n",
    "for i in names_2004_dem:\n",
    "    if i not in names_2004_rep:\n",
    "       \n",
    "        dem_win_states_2004.append(i)\n",
    "        \n",
    "        \n",
    "dem_win_states_2008=[]\n",
    "for i in names_2008_dem:\n",
    "    if i not in names_2008_rep:\n",
    "       \n",
    "        dem_win_states_2008.append(i)\n",
    "        \n",
    "dem_win_states_2012=[]\n",
    "for i in names_2012_dem:\n",
    "    if i not in names_2012_rep:\n",
    "       \n",
    "        dem_win_states_2012.append(i)"
   ]
  },
  {
   "cell_type": "code",
   "execution_count": 159,
   "metadata": {},
   "outputs": [
    {
     "data": {
      "text/plain": [
       "['CT', 'DC', 'HI', 'MA', 'NH', 'RI', 'VT']"
      ]
     },
     "execution_count": 159,
     "metadata": {},
     "output_type": "execute_result"
    }
   ],
   "source": [
    "dem_win_states_2008"
   ]
  },
  {
   "cell_type": "markdown",
   "metadata": {},
   "source": [
    "<div class=\"alert alert-block alert-info\">\n",
    "There are some states did not vote for dem and some did not vote for rep. As an example, the state CT has no county winner for rep, so it is a dem state in 2008\n",
    "</div>\n",
    "\n",
    "\n"
   ]
  },
  {
   "cell_type": "markdown",
   "metadata": {},
   "source": [
    "#### Now for states how have some counties winner for rep and for dem, so we will compare the number of counties winner for rep with the ones who win for the dem and specify this state is rep state or dem state"
   ]
  },
  {
   "cell_type": "code",
   "execution_count": 160,
   "metadata": {},
   "outputs": [],
   "source": [
    "for i in states_2004_dem:\n",
    "    for t in states_2004_rep:\n",
    "        if i==t:\n",
    "            if states_2004_dem[i]>states_2004_rep[t]:\n",
    "                dem_win_states_2004.append(i)\n",
    "            else:\n",
    "                rep_win_states_2004.append(i)\n",
    "   \n",
    "\n",
    "\n",
    "\n",
    "for i in states_2008_dem:\n",
    "    for t in states_2008_rep:\n",
    "        if i==t:\n",
    "            if states_2008_dem[i]>states_2008_rep[t]:\n",
    "                dem_win_states_2008.append(i)\n",
    "            else:\n",
    "                rep_win_states_2008.append(i)\n",
    "   \n",
    "for i in states_2012_dem:\n",
    "    for t in states_2012_rep:\n",
    "        if i==t:\n",
    "            if states_2012_dem[i]>states_2012_rep[t]:\n",
    "                dem_win_states_2012.append(i)\n",
    "            else:\n",
    "                rep_win_states_2012.append(i)\n",
    "   "
   ]
  },
  {
   "cell_type": "code",
   "execution_count": 161,
   "metadata": {},
   "outputs": [
    {
     "data": {
      "text/plain": [
       "9"
      ]
     },
     "execution_count": 161,
     "metadata": {},
     "output_type": "execute_result"
    }
   ],
   "source": [
    "len(dem_win_states_2004)"
   ]
  },
  {
   "cell_type": "code",
   "execution_count": 162,
   "metadata": {},
   "outputs": [
    {
     "data": {
      "text/plain": [
       "42"
      ]
     },
     "execution_count": 162,
     "metadata": {},
     "output_type": "execute_result"
    }
   ],
   "source": [
    "len(rep_win_states_2004)"
   ]
  },
  {
   "cell_type": "code",
   "execution_count": 780,
   "metadata": {},
   "outputs": [
    {
     "data": {
      "image/png": "[encoded data removed]",
      "text/plain": [
       "<Figure size 360x360 with 1 Axes>"
      ]
     },
     "metadata": {},
     "output_type": "display_data"
    },
    {
     "data": {
      "image/png": "[encoded data removed]",
      "text/plain": [
       "<Figure size 360x360 with 1 Axes>"
      ]
     },
     "metadata": {},
     "output_type": "display_data"
    },
    {
     "data": {
      "image/png": "[encoded data removed]",
      "text/plain": [
       "<Figure size 360x360 with 1 Axes>"
      ]
     },
     "metadata": {},
     "output_type": "display_data"
    }
   ],
   "source": [
    "df = pd.DataFrame({'2004': [len(dem_win_states_2004),len(rep_win_states_2004)]},\n",
    "                  index=['dem','rep'])\n",
    "df1 = pd.DataFrame({'2008': [len(dem_win_states_2008),len(rep_win_states_2008)]},\n",
    "                  index=['dem','rep'])\n",
    "df2 = pd.DataFrame({'2012': [len(dem_win_states_2012),len(rep_win_states_2012)]},\n",
    "                  index=['dem','rep'])\n",
    "\n",
    "\n",
    "plot = [df.plot.pie(y='2004', figsize=(5, 5)), df1.plot.pie(y='2008', figsize=(5, 5)),\n",
    "       df2.plot.pie(y='2012', figsize=(5, 5))]\n",
    "\n",
    "\n",
    "\n"
   ]
  },
  {
   "cell_type": "markdown",
   "metadata": {},
   "source": [
    "#### Slicing the names of all states"
   ]
  },
  {
   "cell_type": "code",
   "execution_count": 163,
   "metadata": {},
   "outputs": [],
   "source": [
    "all_states=[]\n",
    "for i in data_2004.iterrows():\n",
    "     if i[1][1] not in all_states:\n",
    "            all_states.append(i[1][1])\n",
    "      "
   ]
  },
  {
   "cell_type": "code",
   "execution_count": 164,
   "metadata": {},
   "outputs": [
    {
     "data": {
      "text/plain": [
       "51"
      ]
     },
     "execution_count": 164,
     "metadata": {},
     "output_type": "execute_result"
    }
   ],
   "source": [
    "len(all_states)"
   ]
  },
  {
   "cell_type": "markdown",
   "metadata": {},
   "source": [
    "#### Deleting all states that win for dem in all years"
   ]
  },
  {
   "cell_type": "code",
   "execution_count": 171,
   "metadata": {},
   "outputs": [
    {
     "name": "stdout",
     "output_type": "stream",
     "text": [
      "\u0000\n",
      "\u0000\n",
      "\u0000\n",
      "\u0000\n",
      "\u0000\n",
      "\u0000\n",
      "\u0000\n",
      "\u0000\n",
      "\u0000\n"
     ]
    }
   ],
   "source": [
    "swing_states=[]\n",
    "for i in all_states:\n",
    "    if i in dem_win_states_2004 and i in dem_win_states_2008 and i in dem_win_states_2012:\n",
    "        print('\\0')\n",
    "    else:\n",
    "        swing_states.append(i)"
   ]
  },
  {
   "cell_type": "code",
   "execution_count": 172,
   "metadata": {},
   "outputs": [
    {
     "data": {
      "text/plain": [
       "42"
      ]
     },
     "execution_count": 172,
     "metadata": {},
     "output_type": "execute_result"
    }
   ],
   "source": [
    "len(states_can_be_changed)"
   ]
  },
  {
   "cell_type": "markdown",
   "metadata": {},
   "source": [
    "<div class=\"alert alert-block alert-info\">\n",
    "The dem did not win in 42 states in 2004 ,2008 and 2012. The number of swing states is 42 state\n",
    "</div>\n",
    "\n",
    "\n",
    "\n",
    "\n"
   ]
  },
  {
   "cell_type": "markdown",
   "metadata": {},
   "source": [
    "#### Divide the swing states to the ones who won for rep in all three years the who did not win for a specific party "
   ]
  },
  {
   "cell_type": "code",
   "execution_count": 178,
   "metadata": {},
   "outputs": [],
   "source": [
    "swing_states_rep=[]\n",
    "for i in swing_states:\n",
    "    if i in rep_win_states_2004 :\n",
    "        if i in rep_win_states_2008 :\n",
    "            if i in rep_win_states_2012:\n",
    "                swing_states_rep.append(i)"
   ]
  },
  {
   "cell_type": "code",
   "execution_count": 179,
   "metadata": {},
   "outputs": [
    {
     "data": {
      "text/plain": [
       "34"
      ]
     },
     "execution_count": 179,
     "metadata": {},
     "output_type": "execute_result"
    }
   ],
   "source": [
    "len(swing_states_rep)"
   ]
  },
  {
   "cell_type": "markdown",
   "metadata": {},
   "source": [
    "<div class=\"alert alert-block alert-info\">\n",
    "\n",
    "The rep win in 34 states in 2004 ,2008 and 2012\n",
    "</div>\n",
    "\n",
    "\n",
    "\n",
    "\n",
    "\n"
   ]
  },
  {
   "cell_type": "code",
   "execution_count": 187,
   "metadata": {},
   "outputs": [],
   "source": [
    "swing_states_no_specific_party=[]\n",
    "for i in swing_states:\n",
    "    if i not in swing_states_rep:\n",
    "        swing_states_no_specific_party.append(i)"
   ]
  },
  {
   "cell_type": "code",
   "execution_count": 188,
   "metadata": {},
   "outputs": [
    {
     "data": {
      "text/plain": [
       "8"
      ]
     },
     "execution_count": 188,
     "metadata": {},
     "output_type": "execute_result"
    }
   ],
   "source": [
    "len(swing_states_no_specific_party)"
   ]
  },
  {
   "cell_type": "markdown",
   "metadata": {},
   "source": [
    "<div class=\"alert alert-block alert-info\">\n",
    "\n",
    "There are 8 states who did not have a specific party \n",
    "</div>\n",
    "\n",
    "\n",
    "\n",
    "\n",
    "\n"
   ]
  },
  {
   "cell_type": "code",
   "execution_count": 782,
   "metadata": {},
   "outputs": [
    {
     "data": {
      "image/png": "[encoded data removed]",
      "text/plain": [
       "<Figure size 360x360 with 1 Axes>"
      ]
     },
     "metadata": {},
     "output_type": "display_data"
    }
   ],
   "source": [
    "df = pd.DataFrame({'swing_state': [len(swing_states_rep),len(swing_states_no_specific_party)]},\n",
    "                  index=['pure rep','no specific party'])\n",
    "\n",
    "\n",
    "plot = df.plot.pie(y='swing_state', figsize=(5, 5))"
   ]
  },
  {
   "cell_type": "markdown",
   "metadata": {},
   "source": [
    "#### Now we want to find the margin between the rep and the dem in the counties that won for rep in the swing states rep (states won for rep in all three years)(just for the rep counties )"
   ]
  },
  {
   "cell_type": "code",
   "execution_count": 193,
   "metadata": {},
   "outputs": [],
   "source": [
    "rep_temp={}\n",
    "for i in swing_states_rep:\n",
    "    for t in data.iterrows():\n",
    "        if t[1][1]==i and t[1][11]=='rep':\n",
    "            if t[1][1] in rep_temp:\n",
    "                rep_temp[t[1][1]][0].append(t[1][14])\n",
    "                rep_temp[t[1][1]][1]+=1\n",
    "            else:\n",
    "                 rep_temp[t[1][1]]=[[t[1][14]],1]\n",
    "                \n",
    "            "
   ]
  },
  {
   "cell_type": "code",
   "execution_count": 194,
   "metadata": {},
   "outputs": [
    {
     "data": {
      "text/plain": [
       "34"
      ]
     },
     "execution_count": 194,
     "metadata": {},
     "output_type": "execute_result"
    }
   ],
   "source": [
    "len(rep_temp)"
   ]
  },
  {
   "cell_type": "markdown",
   "metadata": {},
   "source": [
    "#### Finding the median of the margin values for each state"
   ]
  },
  {
   "cell_type": "code",
   "execution_count": 201,
   "metadata": {},
   "outputs": [],
   "source": [
    "import statistics\n",
    "margin_swing_states_rep={}\n",
    "for i in rep_temp:\n",
    "    \n",
    "    margin_swing_states_rep[i]=(statistics.median(rep_temp[i][0]))"
   ]
  },
  {
   "cell_type": "markdown",
   "metadata": {},
   "source": [
    "#### Sort the swing state rep depending on the margin value "
   ]
  },
  {
   "cell_type": "code",
   "execution_count": 202,
   "metadata": {},
   "outputs": [],
   "source": [
    "margin_swing_states_rep = sorted(margin_swing_states_rep.items(), key=operator.itemgetter(1))"
   ]
  },
  {
   "cell_type": "code",
   "execution_count": 203,
   "metadata": {},
   "outputs": [
    {
     "data": {
      "text/plain": [
       "('MN', 12.075)"
      ]
     },
     "execution_count": 203,
     "metadata": {},
     "output_type": "execute_result"
    }
   ],
   "source": [
    "margin_swing_states_rep[0]"
   ]
  },
  {
   "cell_type": "markdown",
   "metadata": {},
   "source": [
    "#### A bar plot for swing state rep with their margin values"
   ]
  },
  {
   "cell_type": "code",
   "execution_count": 209,
   "metadata": {},
   "outputs": [
    {
     "data": {
      "image/png": "[encoded data removed]",
      "text/plain": [
       "<Figure size 1296x720 with 1 Axes>"
      ]
     },
     "metadata": {
      "needs_background": "light"
     },
     "output_type": "display_data"
    }
   ],
   "source": [
    "\n",
    "\n",
    "f, ax = plt.subplots(figsize=(18,10))\n",
    "\n",
    "left = [i+1 for i in range(len(swing_states_rep))]\n",
    "  \n",
    "\n",
    "height = [i[1] for i in margin_swing_states_rep] \n",
    "  \n",
    "\n",
    "tick_label =  swing_states_rep\n",
    "  \n",
    "\n",
    "plt.bar(left, height, tick_label = tick_label, width = 0.5,color = 'lightblue') \n",
    "  \n",
    "\n",
    "plt.xlabel('states that rep winn in all four years') \n",
    "\n",
    "plt.ylabel('margin') \n",
    "\n",
    "plt.title('state with its margin') \n",
    "  \n",
    "\n",
    "plt.show() "
   ]
  },
  {
   "cell_type": "markdown",
   "metadata": {},
   "source": [
    "<div class=\"alert alert-block alert-info\">\n",
    "From the graph above we can see that the state AL is a rep swing state with a small margin with dem party. So we can take this in our work\n",
    "</div>\n",
    "\n",
    "\n",
    "\n",
    "\n",
    "\n"
   ]
  },
  {
   "cell_type": "markdown",
   "metadata": {},
   "source": [
    "#### Now we want to find the margin between the rep and the dem in the counties that did not win in a specific party in the three years (just for the rep counties )"
   ]
  },
  {
   "cell_type": "code",
   "execution_count": 219,
   "metadata": {},
   "outputs": [],
   "source": [
    "rep_temp2={}\n",
    "for i in swing_states_no_specific_party:\n",
    "    if i in rep_win_states_2004:\n",
    "        for t in data_2004.iterrows():\n",
    "            if t[1][1]==i and t[1][11]=='rep':\n",
    "                if t[1][1] in rep_temp2:\n",
    "                    rep_temp2[t[1][1]][0].append(t[1][14])\n",
    "                    rep_temp2[t[1][1]][1]+=1\n",
    "                else:\n",
    "                     rep_temp2[t[1][1]]=[[t[1][14]],1]\n",
    "    if i in rep_win_states_2008:\n",
    "        for t in data_2008.iterrows():\n",
    "            if t[1][1]==i and t[1][11]=='rep':\n",
    "                if t[1][1] in rep_temp2:\n",
    "                    rep_temp2[t[1][1]][0].append(t[1][14])\n",
    "                    rep_temp2[t[1][1]][1]+=1\n",
    "                else:\n",
    "                     rep_temp2[t[1][1]]=[[t[1][14]],1]\n",
    "    if i in rep_win_states_2012:\n",
    "        for t in data_2012.iterrows():\n",
    "            if t[1][1]==i and t[1][11]=='rep':\n",
    "                if t[1][1] in rep_temp2:\n",
    "                    rep_temp2[t[1][1]][0].append(t[1][14])\n",
    "                    rep_temp2[t[1][1]][1]+=1\n",
    "                else:\n",
    "                     rep_temp2[t[1][1]]=[[t[1][14]],1]"
   ]
  },
  {
   "cell_type": "code",
   "execution_count": 220,
   "metadata": {},
   "outputs": [
    {
     "data": {
      "text/plain": [
       "8"
      ]
     },
     "execution_count": 220,
     "metadata": {},
     "output_type": "execute_result"
    }
   ],
   "source": [
    "len(rep_temp2)"
   ]
  },
  {
   "cell_type": "markdown",
   "metadata": {},
   "source": [
    "#### Finding the median of the margin values for each state\n",
    "\n",
    "\n",
    "\n",
    "\n",
    "\n",
    "\n"
   ]
  },
  {
   "cell_type": "code",
   "execution_count": 301,
   "metadata": {},
   "outputs": [],
   "source": [
    "import statistics\n",
    "margin_rep_winn_in_diff_years={}\n",
    "for i in rep_temp2:\n",
    "    margin_rep_winn_in_diff_years[i]=(statistics.median(rep_temp2[i][0]))"
   ]
  },
  {
   "cell_type": "markdown",
   "metadata": {},
   "source": [
    "#### Sort the swing state rep depending on the margin value "
   ]
  },
  {
   "cell_type": "code",
   "execution_count": 302,
   "metadata": {},
   "outputs": [],
   "source": [
    "margin_rep_winn_in_diff_years = sorted(margin_rep_winn_in_diff_years.items(), key=operator.itemgetter(1))"
   ]
  },
  {
   "cell_type": "markdown",
   "metadata": {},
   "source": [
    "#### A bar plot for swing state rep with their margin values"
   ]
  },
  {
   "cell_type": "code",
   "execution_count": 303,
   "metadata": {},
   "outputs": [
    {
     "data": {
      "image/png": "[encoded data removed]",
      "text/plain": [
       "<Figure size 432x288 with 1 Axes>"
      ]
     },
     "metadata": {
      "needs_background": "light"
     },
     "output_type": "display_data"
    }
   ],
   "source": [
    "import matplotlib.pyplot as plt \n",
    "\n",
    "\n",
    "\n",
    "left1 = [i+1 for i in range(len(swing_states_no_specific_party))]\n",
    "  \n",
    "\n",
    "height1 = [i[1] for i in margin_rep_winn_in_diff_years] \n",
    "  \n",
    "\n",
    "tick_label1 =  swing_states_no_specific_party\n",
    "  \n",
    "\n",
    "plt.bar(left1, height1, tick_label = tick_label1, width = 0.2,color = 'lightblue') \n",
    "  \n",
    "\n",
    "plt.xlabel('states that rep winn not in all four years') \n",
    "\n",
    "plt.ylabel('margin') \n",
    "\n",
    "plt.title('state with its margin') \n",
    "  \n",
    "\n",
    "plt.show() "
   ]
  },
  {
   "cell_type": "markdown",
   "metadata": {},
   "source": [
    "<div class=\"alert alert-block alert-info\">\n",
    "From the graph above we can see that the state CA is a rep swing state with a small margin with dem party. So we can take this in our work\n",
    "</div>\n",
    "\n",
    "\n"
   ]
  },
  {
   "cell_type": "markdown",
   "metadata": {},
   "source": [
    "<div class=\"alert alert-block alert-danger\">\n",
    "So now we have two goals. The first one is to investigate what is the three counties ( in the state that the rep won in the three years with a small margin with the dem (AL) )  that the dem can do its marketing to have a chance to change the winning from rep to dem in their state. The second goal is to investigate what is the three counties ( in the state that did not have a specific winning party but also with a small margin with the dem (CA)  )  that the dem can do its marketing to have a rais the chance of winning the dem in the next years.\n",
    "In this project we just want to investigate in pure rep state (AL).\n",
    "</div>\n",
    "\n"
   ]
  },
  {
   "cell_type": "markdown",
   "metadata": {},
   "source": [
    "#### Slicing the data in the AL state"
   ]
  },
  {
   "cell_type": "code",
   "execution_count": 637,
   "metadata": {},
   "outputs": [],
   "source": [
    "data_al=data[data.state=='AL']"
   ]
  },
  {
   "cell_type": "markdown",
   "metadata": {},
   "source": [
    "#### Deleting the records ( county ) that the rep won on them "
   ]
  },
  {
   "cell_type": "code",
   "execution_count": 638,
   "metadata": {},
   "outputs": [],
   "source": [
    "data_al=data_al.drop((data_al[data_al.winner=='dem']).index)"
   ]
  },
  {
   "cell_type": "code",
   "execution_count": 639,
   "metadata": {},
   "outputs": [
    {
     "data": {
      "text/plain": [
       "rep    162\n",
       "Name: winner, dtype: int64"
      ]
     },
     "execution_count": 639,
     "metadata": {},
     "output_type": "execute_result"
    }
   ],
   "source": [
    "data_al['winner'].value_counts()"
   ]
  },
  {
   "cell_type": "markdown",
   "metadata": {},
   "source": [
    "#### Dividing the data for AL depending on years"
   ]
  },
  {
   "cell_type": "code",
   "execution_count": 657,
   "metadata": {},
   "outputs": [],
   "source": [
    "data_al_2004=data_al[data_al.year==2004]\n",
    "data_al_2008=data_al[data_al.year==2008]\n",
    "data_al_2012=data_al[data_al.year==2012]"
   ]
  },
  {
   "cell_type": "markdown",
   "metadata": {},
   "source": [
    "#### Sort the dataframes by margin"
   ]
  },
  {
   "cell_type": "code",
   "execution_count": 658,
   "metadata": {},
   "outputs": [],
   "source": [
    "data_al_2004=data_al_2004.sort_values(by=['margin_winner_over_runnerup'])\n",
    "data_al_2008=data_al_2008.sort_values(by=['margin_winner_over_runnerup'])\n",
    "data_al_2012=data_al_2012.sort_values(by=['margin_winner_over_runnerup'])"
   ]
  },
  {
   "cell_type": "markdown",
   "metadata": {},
   "source": [
    "#### Deleting the county word from the county name to make the matching"
   ]
  },
  {
   "cell_type": "code",
   "execution_count": 659,
   "metadata": {},
   "outputs": [],
   "source": [
    "tempa=[]\n",
    "for i in data_al_2004.iterrows():\n",
    "    tempa.append(i[1][2][:-7])\n",
    "tempb=[]\n",
    "for i in data_al_2008.iterrows():\n",
    "    tempb.append(i[1][2][:-7])"
   ]
  },
  {
   "cell_type": "code",
   "execution_count": 660,
   "metadata": {},
   "outputs": [],
   "source": [
    "data_al_2004['county']=tempa\n",
    "data_al_2008['county']=tempb"
   ]
  },
  {
   "cell_type": "markdown",
   "metadata": {},
   "source": [
    "#### Slicing the counties that the rep won in three years"
   ]
  },
  {
   "cell_type": "code",
   "execution_count": 661,
   "metadata": {},
   "outputs": [],
   "source": [
    "temp1=[]\n",
    "for i in data_al_2004.iterrows():\n",
    "    temp1.append(i[1][2])\n",
    "temp2=[]\n",
    "for i in data_al_2008.iterrows():\n",
    "    temp2.append(i[1][2])\n",
    "temp3=[]\n",
    "for i in data_al_2012.iterrows():\n",
    "    temp3.append(i[1][2])"
   ]
  },
  {
   "cell_type": "code",
   "execution_count": 662,
   "metadata": {},
   "outputs": [],
   "source": [
    "final_swing_counties=[]\n",
    "for i in temp1:\n",
    "    if i in temp2 and i in temp3:\n",
    "        final_swing_counties.append(i)"
   ]
  },
  {
   "cell_type": "code",
   "execution_count": 663,
   "metadata": {},
   "outputs": [
    {
     "data": {
      "text/plain": [
       "['Choctaw', 'Colbert', 'Lawrence', 'Pickens']"
      ]
     },
     "execution_count": 663,
     "metadata": {},
     "output_type": "execute_result"
    }
   ],
   "source": [
    "final_swing_counties[:4]"
   ]
  },
  {
   "cell_type": "code",
   "execution_count": 666,
   "metadata": {},
   "outputs": [],
   "source": [
    "for i in data_al_2004.iterrows():\n",
    "    if i[1][2] not in final_swing_counties:\n",
    "        data_al_2004=data_al_2004.drop((data_al_2004[data_al_2004.county==i[1][2]]).index)\n",
    "        \n",
    "for i in data_al_2008.iterrows():\n",
    "    if i[1][2] not in final_swing_counties:\n",
    "        data_al_2008=data_al_2008.drop((data_al_2008[data_al_2008.county==i[1][2]]).index)\n",
    "        \n",
    "\n",
    "for i in data_al_2012.iterrows():\n",
    "    if i[1][2] not in final_swing_counties:\n",
    "        data_al_2012=data_al_2012.drop((data_al_2012[data_al_2012.county==i[1][2]]).index)\n",
    "        \n"
   ]
  },
  {
   "cell_type": "code",
   "execution_count": 669,
   "metadata": {},
   "outputs": [
    {
     "name": "stdout",
     "output_type": "stream",
     "text": [
      "<class 'pandas.core.frame.DataFrame'>\n",
      "Int64Index: 51 entries, 6319 to 6312\n",
      "Data columns (total 15 columns):\n",
      "year                           51 non-null int64\n",
      "state                          51 non-null object\n",
      "county                         51 non-null object\n",
      "fips                           51 non-null object\n",
      "vote_rep                       51 non-null int64\n",
      "vote_dem                       51 non-null int64\n",
      "vote_oth                       51 non-null int64\n",
      "vote_total                     51 non-null int64\n",
      "pct_rep                        51 non-null float64\n",
      "pct_dem                        51 non-null float64\n",
      "pct_oth                        51 non-null float64\n",
      "winner                         51 non-null object\n",
      "runnerup                       51 non-null object\n",
      "pct_winner                     51 non-null float64\n",
      "margin_winner_over_runnerup    51 non-null float64\n",
      "dtypes: float64(5), int64(5), object(5)\n",
      "memory usage: 6.4+ KB\n"
     ]
    }
   ],
   "source": [
    "data_al_2012.info()"
   ]
  },
  {
   "cell_type": "markdown",
   "metadata": {},
   "source": [
    "#### Scatterplot for counties in the three years"
   ]
  },
  {
   "cell_type": "code",
   "execution_count": 719,
   "metadata": {},
   "outputs": [
    {
     "data": {
      "text/plain": [
       "<matplotlib.legend.Legend at 0x2d79675a978>"
      ]
     },
     "execution_count": 719,
     "metadata": {},
     "output_type": "execute_result"
    },
    {
     "data": {
      "image/png": "[encoded data removed]",
      "text/plain": [
       "<Figure size 1296x720 with 1 Axes>"
      ]
     },
     "metadata": {
      "needs_background": "light"
     },
     "output_type": "display_data"
    }
   ],
   "source": [
    "\n",
    "f, ax = plt.subplots(figsize=(18,10))\n",
    "plt.plot(data_al_2004[data_al_2004.margin_winner_over_runnerup<20]['county'],\n",
    "         data_al_2004[data_al_2004.margin_winner_over_runnerup<20]['margin_winner_over_runnerup'],'o',label='2004')\n",
    "\n",
    "plt.plot(data_al_2008[data_al_2008.margin_winner_over_runnerup<20]['county'],\n",
    "         data_al_2008[data_al_2008.margin_winner_over_runnerup<20]['margin_winner_over_runnerup'],'o',label='2008')\n",
    "\n",
    "plt.plot(data_al_2012[data_al_2012.margin_winner_over_runnerup<20]['county'],\n",
    "         data_al_2012[data_al_2012.margin_winner_over_runnerup<20]['margin_winner_over_runnerup'],'o',label='2012')\n",
    "\n",
    "\n",
    "plt.legend()"
   ]
  },
  {
   "cell_type": "markdown",
   "metadata": {},
   "source": [
    "<div class=\"alert alert-block alert-info\">\n",
    "-Lawrence and Colbert in 2008 and 2012 have a big margin.<br> \n",
    "-Choctaw and Pickens have a good chance to be chosen.\n",
    "-Chambers has a better chance than Coosa due to Coosa in the three years has almost a fixed margin around 16 but Chambers in 2012 and 2008 has a very low margin which means that this county can be changed.<br> \n",
    "-The next three counties they are almost the same as Chambers.<br> \n",
    "    \n",
    "So we will investigate on these counties: Choctaw, Pickens,Chambers, Mobile, Clarke, and Butler\n",
    "</div>\n",
    "\n",
    "\n"
   ]
  },
  {
   "cell_type": "markdown",
   "metadata": {},
   "source": [
    "#### Find the ave margin for each county in the three years"
   ]
  },
  {
   "cell_type": "code",
   "execution_count": 724,
   "metadata": {},
   "outputs": [],
   "source": [
    "ave_margin_county={}\n",
    "for i in data_al_2004.iterrows():\n",
    "    if i[1][2] in ave_margin_county:\n",
    "        ave_margin_county[i[1][2]].append(i[1][14])\n",
    "    else:\n",
    "        ave_margin_county[i[1][2]]=[i[1][14]]\n",
    "        \n",
    "for i in data_al_2008.iterrows():\n",
    "    if i[1][2] in ave_margin_county:\n",
    "        ave_margin_county[i[1][2]].append(i[1][14])\n",
    " \n",
    "for i in data_al_2012.iterrows():\n",
    "      if i[1][2] in ave_margin_county:\n",
    "        ave_margin_county[i[1][2]].append(i[1][14])\n",
    "\n"
   ]
  },
  {
   "cell_type": "code",
   "execution_count": 725,
   "metadata": {},
   "outputs": [],
   "source": [
    "import math\n",
    "ave_margin_county2={}\n",
    "for i in ave_margin_county:\n",
    "    temp=sum(ave_margin_county[i])/3\n",
    "    if temp<30:\n",
    "         ave_margin_county2[i]=temp\n",
    "            \n",
    "ave_margin_county2 = sorted(ave_margin_county2.items(), key=operator.itemgetter(1))"
   ]
  },
  {
   "cell_type": "markdown",
   "metadata": {},
   "source": [
    "#### Scatter plot for the counties with the ave margin in the three years\n"
   ]
  },
  {
   "cell_type": "code",
   "execution_count": 726,
   "metadata": {},
   "outputs": [],
   "source": [
    "key_ave=[]\n",
    "value_ave=[]\n",
    "for i in (ave_margin_county2):\n",
    "    key_ave.append(i[0])\n",
    "    value_ave.append(i[1])"
   ]
  },
  {
   "cell_type": "code",
   "execution_count": 727,
   "metadata": {},
   "outputs": [
    {
     "data": {
      "text/plain": [
       "[<matplotlib.lines.Line2D at 0x2d796754cf8>]"
      ]
     },
     "execution_count": 727,
     "metadata": {},
     "output_type": "execute_result"
    },
    {
     "data": {
      "image/png": "[encoded data removed]",
      "text/plain": [
       "<Figure size 1296x720 with 1 Axes>"
      ]
     },
     "metadata": {
      "needs_background": "light"
     },
     "output_type": "display_data"
    }
   ],
   "source": [
    "f, ax = plt.subplots(figsize=(18,10))\n",
    "plt.plot(key_ave,value_ave,'o',color='red')"
   ]
  },
  {
   "cell_type": "markdown",
   "metadata": {},
   "source": [
    "<div class=\"alert alert-block alert-info\">\n",
    "From the two previous graphs it clear that these are the swing counties: Choctaw, Chambers, Mobile,Pickens, Clarke, and Butler\n",
    "</div>\n"
   ]
  },
  {
   "cell_type": "markdown",
   "metadata": {},
   "source": [
    "#### Scatter plot for the swing counties and their total vote"
   ]
  },
  {
   "cell_type": "code",
   "execution_count": 785,
   "metadata": {},
   "outputs": [],
   "source": [
    "total_vote=[]\n",
    "county_name=key_ave[:6]\n",
    "county_name.remove('Mobile')\n",
    "for i in county_name:\n",
    "    total_vote.append((data_al_2004[data_al_2004.county==i]['vote_total'].iloc[0]+\n",
    "              data_al_2008[data_al_2008.county==i]['vote_total'].iloc[0]+\n",
    "              data_al_2012[data_al_2012.county==i]['vote_total'].iloc[0])/3\n",
    "         )\n",
    "                       "
   ]
  },
  {
   "cell_type": "code",
   "execution_count": 786,
   "metadata": {},
   "outputs": [
    {
     "data": {
      "text/plain": [
       "[<matplotlib.lines.Line2D at 0x2d7989d9710>]"
      ]
     },
     "execution_count": 786,
     "metadata": {},
     "output_type": "execute_result"
    },
    {
     "data": {
      "image/png": "[encoded data removed]",
      "text/plain": [
       "<Figure size 1296x720 with 1 Axes>"
      ]
     },
     "metadata": {
      "needs_background": "light"
     },
     "output_type": "display_data"
    }
   ],
   "source": [
    "f, ax = plt.subplots(figsize=(18,10))\n",
    "plt.plot(county_name,total_vote,'o',color='red')"
   ]
  },
  {
   "cell_type": "markdown",
   "metadata": {},
   "source": [
    "<div class=\"alert alert-block alert-success\">\n",
    "Regarding to the previous graph, we did not add the Mobile county due to it has a large number of total-vote. In addition, depending on the total number of voting and the margin, the Mobile County and the Chambers County are the best county to effect on. Because they have large number of voting and they are considered as swing counties. On the other hand, if we want to pay attention just for the margin, Choctaw is the best choice. \n",
    "</div>\n"
   ]
  }
 ],
 "metadata": {
  "kernelspec": {
   "display_name": "Python 3",
   "language": "python",
   "name": "python3"
  },
  "language_info": {
   "codemirror_mode": {
    "name": "ipython",
    "version": 3
   },
   "file_extension": ".py",
   "mimetype": "text/x-python",
   "name": "python",
   "nbconvert_exporter": "python",
   "pygments_lexer": "ipython3",
   "version": "3.7.3"
  }
 },
 "nbformat": 4,
 "nbformat_minor": 2
}
