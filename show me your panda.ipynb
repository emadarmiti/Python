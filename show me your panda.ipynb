{
 "cells": [
  {
   "cell_type": "markdown",
   "metadata": {},
   "source": [
    "\n",
    "<div class=\"alert alert-block alert-warning\">\n",
    "    <b>Introduction to theory of probabilities course </b><br>\n",
    "    <p>&#9656;Project-3 / Show me your panda.</p>\n",
    "    <p>&#9656;20/2/2019 Sunday.</p>\n",
    "</div>\n"
   ]
  },
  {
   "cell_type": "markdown",
   "metadata": {},
   "source": [
    "<div class=\"alert alert-block alert-info\">\n",
    "  \n",
    " <b>Project Goals:<br></b>\n",
    "    <p>&#9726; Generate a pandas DataFrame, with the x-column time stamps from 0 to 10 s, at a rate of 10 Hz, the y-column data values with a sine with 1.5 Hz, and the z-column the corresponding cosine values. Label the x-column “Time”, and the y-column “YVals”, and the z-column “ZVals”. </p>\n",
    "    <p>&#9726; Show the head of this DataFrame. </p>\n",
    "    <p>&#9726; Extract the data in lines 10–15 from “Yvals” and “ZVals”, and write them to the file “out.txt”. </p>\n",
    "    </div>\n",
    "    "
   ]
  },
  {
   "cell_type": "code",
   "execution_count": 69,
   "metadata": {},
   "outputs": [],
   "source": [
    "#Import math , numpy and pandas libraries.\n",
    "import pandas as pd\n",
    "import numpy as np\n",
    "from pandas import DataFrame\n",
    "import math"
   ]
  },
  {
   "cell_type": "markdown",
   "metadata": {},
   "source": [
    "<div class=\"alert alert-block alert-success\">\n",
    "<b>Make the x-column that represent the time.</b>\n",
    "</div>"
   ]
  },
  {
   "cell_type": "code",
   "execution_count": 50,
   "metadata": {},
   "outputs": [],
   "source": [
    "#The x-column , a list of time stamps from 0s to 10s at rate of 0.1s .\n",
    "Time=[round(i, 2) for i in np.arange(0,10.1,0.1)]"
   ]
  },
  {
   "cell_type": "code",
   "execution_count": 54,
   "metadata": {},
   "outputs": [
    {
     "name": "stdout",
     "output_type": "stream",
     "text": [
      "[0.0, 0.1, 0.2, 0.3, 0.4, 0.5, 0.6, 0.7, 0.8, 0.9, 1.0]\n"
     ]
    }
   ],
   "source": [
    "#Check the time list.\n",
    "print(Time[:11])"
   ]
  },
  {
   "cell_type": "markdown",
   "metadata": {},
   "source": [
    "<div class=\"alert alert-block alert-success\">\n",
    "<b>Make the y-column that represent the sine values.</b>\n",
    "</div>"
   ]
  },
  {
   "cell_type": "code",
   "execution_count": 57,
   "metadata": {},
   "outputs": [],
   "source": [
    "#The y-column , a list contain the sine of the time values with 1.5 Hz.\n",
    "YVals=[math.sin(1.5*i) for i in Time]"
   ]
  },
  {
   "cell_type": "code",
   "execution_count": 58,
   "metadata": {},
   "outputs": [
    {
     "name": "stdout",
     "output_type": "stream",
     "text": [
      "[0.0, 0.14943813247359924, 0.2955202066613396, 0.4349655341112302, 0.5646424733950355]\n"
     ]
    }
   ],
   "source": [
    "#Check the sine list.\n",
    "print(YVals[:5])"
   ]
  },
  {
   "cell_type": "markdown",
   "metadata": {},
   "source": [
    "<div class=\"alert alert-block alert-success\">\n",
    "<b>Make the z-column that represent the cosine values.</b>\n",
    "</div>"
   ]
  },
  {
   "cell_type": "code",
   "execution_count": 61,
   "metadata": {},
   "outputs": [],
   "source": [
    "#The z-column , a list contain the cosine of the time values with 1.5 Hz.\n",
    "ZVals=[math.cos(1.5*i) for i in Time]"
   ]
  },
  {
   "cell_type": "code",
   "execution_count": 62,
   "metadata": {},
   "outputs": [
    {
     "name": "stdout",
     "output_type": "stream",
     "text": [
      "[1.0, 0.9887710779360422, 0.955336489125606, 0.9004471023526769, 0.8253356149096782]\n"
     ]
    }
   ],
   "source": [
    "#Check the cosine list.\n",
    "print(ZVals[:5])"
   ]
  },
  {
   "cell_type": "markdown",
   "metadata": {},
   "source": [
    "<div class=\"alert alert-block alert-success\">\n",
    "<b>Make the dataframe that holds the three lists as a columns : the time list , the sine list and the cosine list.</b>\n",
    "</div>"
   ]
  },
  {
   "cell_type": "code",
   "execution_count": 63,
   "metadata": {},
   "outputs": [],
   "source": [
    "#The Dataframe with three columns : Time , Sin values and Cos values.\n",
    "dataframe=DataFrame({'Time':Time,'YVals':YVals,'ZVals':ZVals})"
   ]
  },
  {
   "cell_type": "code",
   "execution_count": 67,
   "metadata": {},
   "outputs": [
    {
     "name": "stdout",
     "output_type": "stream",
     "text": [
      "    Time     YVals     ZVals\n",
      "0    0.0  0.000000  1.000000\n",
      "1    0.1  0.149438  0.988771\n",
      "2    0.2  0.295520  0.955336\n",
      "3    0.3  0.434966  0.900447\n",
      "4    0.4  0.564642  0.825336\n",
      "5    0.5  0.681639  0.731689\n",
      "6    0.6  0.783327  0.621610\n",
      "7    0.7  0.867423  0.497571\n",
      "8    0.8  0.932039  0.362358\n",
      "9    0.9  0.975723  0.219007\n",
      "10   1.0  0.997495  0.070737\n"
      
     ]
    }
   ],
   "source": [
    "#Check the dataframe values.\n",
    "print(dataframe[:11])"
   ]
  },
  {
   "cell_type": "markdown",
   "metadata": {},
   "source": [
    "<div class=\"alert alert-block alert-success\">\n",
    "<b>Show the head of the dataframe.</b>\n",
    "</div>"
   ]
  },
  {
   "cell_type": "code",
   "execution_count": 66,
   "metadata": {},
   "outputs": [
    {
     "data": {
      "text/html": [
       "<div>\n",
       "<style scoped>\n",
       "    .dataframe tbody tr th:only-of-type {\n",
       "        vertical-align: middle;\n",
       "    }\n",
       "\n",
       "    .dataframe tbody tr th {\n",
       "        vertical-align: top;\n",
       "    }\n",
       "\n",
       "    .dataframe thead th {\n",
       "        text-align: right;\n",
       "    }\n",
       "</style>\n",
       "<table border=\"1\" class=\"dataframe\">\n",
       "  <thead>\n",
       "    <tr style=\"text-align: right;\">\n",
       "      <th></th>\n",
       "      <th>Time</th>\n",
       "      <th>YVals</th>\n",
       "      <th>ZVals</th>\n",
       "    </tr>\n",
       "  </thead>\n",
       "  <tbody>\n",
       "    <tr>\n",
       "      <th>0</th>\n",
       "      <td>0.0</td>\n",
       "      <td>0.000000</td>\n",
       "      <td>1.000000</td>\n",
       "    </tr>\n",
       "    <tr>\n",
       "      <th>1</th>\n",
       "      <td>0.1</td>\n",
       "      <td>0.149438</td>\n",
       "      <td>0.988771</td>\n",
       "    </tr>\n",
       "    <tr>\n",
       "      <th>2</th>\n",
       "      <td>0.2</td>\n",
       "      <td>0.295520</td>\n",
       "      <td>0.955336</td>\n",
       "    </tr>\n",
       "    <tr>\n",
       "      <th>3</th>\n",
       "      <td>0.3</td>\n",
       "      <td>0.434966</td>\n",
       "      <td>0.900447</td>\n",
       "    </tr>\n",
       "    <tr>\n",
       "      <th>4</th>\n",
       "      <td>0.4</td>\n",
       "      <td>0.564642</td>\n",
       "      <td>0.825336</td>\n",
       "    </tr>\n",
       "  </tbody>\n",
       "</table>\n",
       "</div>"
      ],
      "text/plain": [
       "   Time     YVals     ZVals\n",
       "0   0.0  0.000000  1.000000\n",
       "1   0.1  0.149438  0.988771\n",
       "2   0.2  0.295520  0.955336\n",
       "3   0.3  0.434966  0.900447\n",
       "4   0.4  0.564642  0.825336"
      ]
     },
     "execution_count": 66,
     "metadata": {},
     "output_type": "execute_result"
    }
   ],
   "source": [
    "#Print the head of the dataframe (the first five rows)\n",
    "dataframe.head()"
   ]
  },
  {
   "cell_type": "markdown",
   "metadata": {},
   "source": [
    "<div class=\"alert alert-block alert-success\">\n",
    "<b> Extract the data in lines 10–15 from “Yvals” and “ZVals”, and write them to the file “out.txt\".</b>\n",
    "</div>"
   ]
  },
  {
   "cell_type": "code",
   "execution_count": 68,
   "metadata": {},
   "outputs": [],
   "source": [
    "#Make a text file of name out and store the data in it.\n",
    "np.savetxt(r'out.txt', dataframe[[\"YVals\",\"ZVals\"]][10:16], fmt='%f')"
   ]
  }
 ],
 "metadata": {
  "kernelspec": {
   "display_name": "Python 2",
   "language": "python",
   "name": "python2"
  },
  "language_info": {
   "codemirror_mode": {
    "name": "ipython",
    "version": 2
   },
   "file_extension": ".py",
   "mimetype": "text/x-python",
   "name": "python",
   "nbconvert_exporter": "python",
   "pygments_lexer": "ipython2",
   "version": "2.7.15"
  }
 },
 "nbformat": 4,
 "nbformat_minor": 2
}
